
import io
import pandas as pd
import matplotlib.pyplot as plt
import seaborn as sns
from transformers import pipeline
from googletrans import Translator
from selenium import webdriver
from selenium.webdriver.common.by import By
from selenium.webdriver.common.keys import Keys
from selenium.webdriver.chrome.options import Options
import ipywidgets as widgets
from IPython.display import display, clear_output
import tensorflow as tf
import time


num_gpu_available= len(tf.config.experimental.list_physical_devices('GPU'))
print("Num GPU:",num_gpu_available)


sentiment_analyzer = pipeline('sentiment-analysis', model="distilbert-base-uncased-finetuned-sst-2-english")

def analyze_sentiment(text):
    try:
        result = sentiment_analyzer(text)
        return result
    except Exception as e:
        print(f"Error in sentiment analysis: {e}")
        return None


translator = Translator()

def translate_text(text, target_lang='en'):
    try:
        translation = translator.translate(text, dest=target_lang)
        return translation.text
    except Exception as e:
        return f"Error in translation: {e}"
    


def get_driver():
    options = Options()
    options.headless = True
    options.add_argument("--window-size=1920,1080")
    driver = webdriver.Chrome(options=options)
    return driver

def fetch_comments_selenium(url, element_type, class_name):
    driver = get_driver()
    driver.get(url)
    time.sleep(5)  
    comments = []
    try:
        elements = driver.find_elements(element_type, class_name)
        comments = [element.text for element in elements if element.text]
    except Exception as e:
        print(f"An error occurred: {e}")
    finally:
        driver.quit()
    return comments

def fetch_comments_twitter(url):
    return fetch_comments_selenium(url, By.CSS_SELECTOR, '.css-901oao.r-1fmj7o5.r-1qd0xha.r-a023e6.r-16dba41.r-rjixqe.r-bcqeeo.r-bnwqim.r-qvutc0')

def fetch_comments_youtube(url, max_comment_loads=2):
    driver = get_driver()
    driver.get(url)
    time.sleep(5)  

    body = driver.find_element(By.TAG_NAME, 'body')
    for _ in range(max_comment_loads):
        body.send_keys(Keys.PAGE_DOWN)
        time.sleep(2)  

    comments = []
    try:
        comment_elements = driver.find_elements(By.TAG_NAME, 'ytd-comment-renderer')
        comments = [comment.text for comment in comment_elements if comment.text]
        print(f"Fetched {len(comments)} comments")  
    except Exception as e:
        print(f"An error occurred: {e}")
    finally:
        driver.quit()

    return comments


def fetch_comments_reddit(url, max_comment_loads=2):
    driver = get_driver()
    driver.get(url)
    time.sleep(5)  

   
    try:
        see_more_buttons = driver.find_elements(By.XPATH, "//button[text()='See More']")
        for button in see_more_buttons:
            driver.execute_script("arguments[0].click();", button)
            time.sleep(1)
    except Exception as e:
        print(f"Error clicking 'See More': {e}")

    body = driver.find_element(By.TAG_NAME, 'body')
    for _ in range(max_comment_loads):
        body.send_keys(Keys.PAGE_DOWN)
        time.sleep(2)  # Adjust timing based on your network speed

    comments = []
    try:
       
        comment_elements = driver.find_elements(By.CSS_SELECTOR, 'div[data-test-id="comment"]')
        comments = [comment.text for comment in comment_elements if comment.text]
    except Exception as e:
        print(f"An error occurred while fetching comments: {e}")
    finally:
        driver.quit()

    return comments




def visualize_sentiments(sentiments):
    if sentiments:
        sentiment_df = pd.DataFrame(sentiments)
        sns.countplot(x='label', data=sentiment_df)
        plt.title("Sentiment Distribution")
        plt.xlabel("Sentiment")
        plt.ylabel("Count")
        plt.show()
    else:
        print("No sentiment data to visualize.")



url_input = widgets.Text(description="URL:")
upload_input = widgets.FileUpload(accept='.csv', multiple=False)
output = widgets.Output()
button = widgets.Button(description="Analyze")

def on_button_clicked(b):
    with output:
        clear_output()
        try:
            comments = []
            if url_input.value:
                if 'youtube.com' in url_input.value:
                    comments = fetch_comments_youtube(url_input.value)
                    
                elif 'twitter.com' in url_input.value:
                    comments = fetch_comments_twitter(url_input.value)
                elif 'reddit.com' in url_input.value:
                    comments = fetch_comments_reddit(url_input.value)
                
                translated_comments = [translate_text(comment) for comment in comments]
                sentiments = [sentiment_analyzer(comment)[0] for comment in translated_comments if comment]
                visualize_sentiments(sentiments)
            elif upload_input.value:
                input_file = next(iter(upload_input.value.values()))
                df = pd.read_csv(io.BytesIO(input_file['content']))
                comments = df['comments'].tolist() if 'comments' in df.columns else []
                translated_comments = [translate_text(comment) for comment in comments]
                sentiments = [sentiment_analyzer(comment)[0] for comment in translated_comments if comment]
                visualize_sentiments(sentiments)

                
        except Exception as e:
            print(f"An error occurred: {e}")
            


button.on_click(on_button_clicked)
display(url_input, upload_input, button, output)

